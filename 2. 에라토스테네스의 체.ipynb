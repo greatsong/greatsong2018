{
 "cells": [
  {
   "cell_type": "markdown",
   "metadata": {},
   "source": [
    "### 0. 소수 판별 알고리즘 - 지난 시간"
   ]
  },
  {
   "cell_type": "code",
   "execution_count": null,
   "metadata": {},
   "outputs": [],
   "source": [
    "import math\n",
    "def check_prime2(n) :\n",
    "    flag = True\n",
    "    for i in range(2, int(math.sqrt(n)) + 1) :\n",
    "        if n % i == 0 :\n",
    "            return False\n",
    "    return True"
   ]
  },
  {
   "cell_type": "code",
   "execution_count": null,
   "metadata": {},
   "outputs": [],
   "source": [
    "def check_prime2(n) :\n",
    "    flag = True\n",
    "    for i in range(2, int(n ** 0.5) + 1) :\n",
    "        if n % i == 0 :\n",
    "            return False\n",
    "    return True"
   ]
  },
  {
   "cell_type": "markdown",
   "metadata": {},
   "source": [
    "### 1. 소수 리스트 만들기"
   ]
  },
  {
   "cell_type": "code",
   "execution_count": null,
   "metadata": {},
   "outputs": [],
   "source": [
    "def prime_list(n) :\n",
    "    prime = []\n",
    "    for i in range(n) :\n",
    "        if check_prime2(i) :\n",
    "            prime.append(i)\n",
    "    return prime"
   ]
  },
  {
   "cell_type": "markdown",
   "metadata": {},
   "source": [
    "####  * 소수 리스트 만들기 알고리즘 실행시간 측정"
   ]
  },
  {
   "cell_type": "code",
   "execution_count": null,
   "metadata": {},
   "outputs": [],
   "source": [
    "%timeit prime_list(1000000)"
   ]
  },
  {
   "cell_type": "markdown",
   "metadata": {},
   "source": [
    "### 2. 에라토스테네스의 체 알고리즘"
   ]
  },
  {
   "cell_type": "markdown",
   "metadata": {},
   "source": [
    "https://ko.wikipedia.org/wiki/%EC%97%90%EB%9D%BC%ED%86%A0%EC%8A%A4%ED%85%8C%EB%84%A4%EC%8A%A4%EC%9D%98_%EC%B2%B4"
   ]
  },
  {
   "cell_type": "markdown",
   "metadata": {},
   "source": [
    "#### step 1) 알고리즘 이해하기\n",
    "#### step 2) 알고리즘을 코드(컴퓨터가 이해할 수 있는 언어)로 표현하기\n",
    "#### step 3) 정확한 결과를 출력하는지 테스트하기"
   ]
  },
  {
   "cell_type": "code",
   "execution_count": null,
   "metadata": {},
   "outputs": [],
   "source": [
    "# 1) N까지의 체를 만든다.\n",
    "# 2) 소수를 저장할 저장공간(리스트)을 만든다.\n",
    "# 3) 체의 첫 번째 숫자, 2(i)를 저장한다. \n",
    "# 4) 체에서 2(i)의 배수를 지운다.\n",
    "# 5) N까지 3) 4)를 반복한다."
   ]
  },
  {
   "cell_type": "markdown",
   "metadata": {},
   "source": [
    "##### ver1) for 반복문 사용"
   ]
  },
  {
   "cell_type": "code",
   "execution_count": null,
   "metadata": {},
   "outputs": [],
   "source": [
    "def eratos1(n) : \n",
    "    sieve = [1] * (n + 1)\n",
    "    prime = []\n",
    "    for i in range(2, n + 1) :\n",
    "        if sieve[i] == 1 :\n",
    "            prime.append(i)\n",
    "            for j in range(i, n + 1, i) :\n",
    "                sieve[j] = 0\n",
    "    return prime"
   ]
  },
  {
   "cell_type": "code",
   "execution_count": null,
   "metadata": {},
   "outputs": [],
   "source": [
    "eratos1(11)"
   ]
  },
  {
   "cell_type": "code",
   "execution_count": null,
   "metadata": {},
   "outputs": [],
   "source": [
    "%timeit eratos1(1000000)"
   ]
  },
  {
   "cell_type": "markdown",
   "metadata": {},
   "source": [
    "##### ver2) for 반복문 범위 나누기"
   ]
  },
  {
   "cell_type": "code",
   "execution_count": null,
   "metadata": {},
   "outputs": [],
   "source": [
    "def eratos2(n) :\n",
    "    sieve = [1] * (n + 1)\n",
    "    prime = []\n",
    "    for i in range(2, int(n ** 0.5) + 1) :\n",
    "        if sieve[i] == 1 :\n",
    "            prime.append(i)\n",
    "            for j in range(i, n + 1, i) :\n",
    "                sieve[j] = 0\n",
    "    for i in range(int(n ** 0.5) + 1, n + 1) :\n",
    "        if sieve[i] == 1 :\n",
    "            prime.append(i)\n",
    "    return prime"
   ]
  },
  {
   "cell_type": "code",
   "execution_count": null,
   "metadata": {},
   "outputs": [],
   "source": [
    "%timeit eratos2(1000000)"
   ]
  },
  {
   "cell_type": "markdown",
   "metadata": {},
   "source": [
    "##### ver3) 먼저 체크만하고 한꺼번에 담기"
   ]
  },
  {
   "cell_type": "code",
   "execution_count": null,
   "metadata": {},
   "outputs": [],
   "source": [
    "def eratos3(n) :\n",
    "    sieve = [1] * (n + 1)\n",
    "    prime = []\n",
    "    for i in range(2, int(n ** 0.5) + 1):\n",
    "        if sieve[i] == 1 :        \n",
    "            for j in range(i + i, n + 1, i):\n",
    "                sieve[j] = 0\n",
    "    for i in range(2, n + 1) :\n",
    "        if sieve[i] == 1 :\n",
    "            prime.append(i)\n",
    "    return prime"
   ]
  },
  {
   "cell_type": "code",
   "execution_count": null,
   "metadata": {},
   "outputs": [],
   "source": [
    "%timeit eratos3(1000000)"
   ]
  },
  {
   "cell_type": "code",
   "execution_count": null,
   "metadata": {},
   "outputs": [],
   "source": [
    "%timeit prime_list(1000000)"
   ]
  },
  {
   "cell_type": "code",
   "execution_count": null,
   "metadata": {},
   "outputs": [],
   "source": [
    "def eratos2(n) :\n",
    "    sieve = [1] * (n + 1)\n",
    "    prime = []\n",
    "    for i in range(2, int(n ** 0.5) + 1) :\n",
    "        if sieve[i] == 1 :\n",
    "            prime.append(i)\n",
    "            for j in range(i, n + 1, i) :\n",
    "                sieve[j] = 0\n",
    "    for i in range(int(n ** 0.5) + 1, n + 1) :\n",
    "        if sieve[i] == 1 :\n",
    "            prime.append(i)\n",
    "    return prime"
   ]
  },
  {
   "cell_type": "markdown",
   "metadata": {},
   "source": [
    "## http://euler.synap.co.kr"
   ]
  },
  {
   "cell_type": "markdown",
   "metadata": {},
   "source": [
    "#### 10) 이백만 이하 소수의 합\n",
    "#### 7) 10001번째의 소수"
   ]
  },
  {
   "cell_type": "markdown",
   "metadata": {},
   "source": [
    "## 3. greatsong.py 모듈 만들기\n",
    "#### 1) 새로운 노트북 만들기(Python3)\n",
    "#### 2) 에라토스테네스의 체 함수(eratos) 복사해서 붙여넣기\n",
    "#### 3) 노트북 이름 짓기(맨 위 이름 더블 클릭)\n",
    "#### 4) [File] - [Download as] - [Python(.py)]\n",
    "#### 5) 새로운 노트북에서 다음 코드 실행"
   ]
  },
  {
   "cell_type": "code",
   "execution_count": null,
   "metadata": {},
   "outputs": [],
   "source": [
    "import greatsong\n",
    "greatsong.eratos2(10000)"
   ]
  },
  {
   "cell_type": "markdown",
   "metadata": {},
   "source": [
    "## 4. list comprehension"
   ]
  },
  {
   "cell_type": "code",
   "execution_count": null,
   "metadata": {},
   "outputs": [],
   "source": [
    "a = []\n",
    "for i in range(10) :\n",
    "    a.append(i)\n",
    "print(a)"
   ]
  },
  {
   "cell_type": "code",
   "execution_count": null,
   "metadata": {},
   "outputs": [],
   "source": [
    "a = [i for i in range(10)]\n",
    "print(a)"
   ]
  },
  {
   "cell_type": "code",
   "execution_count": null,
   "metadata": {},
   "outputs": [],
   "source": [
    "a = []\n",
    "\n",
    "for i in range(10) :\n",
    "    a.append(i ** 2)\n",
    "    \n",
    "print(a)"
   ]
  },
  {
   "cell_type": "code",
   "execution_count": null,
   "metadata": {},
   "outputs": [],
   "source": [
    "a = [i ** 2 for i in range(10)]\n",
    "print(a)"
   ]
  },
  {
   "cell_type": "code",
   "execution_count": null,
   "metadata": {},
   "outputs": [],
   "source": [
    "a = []\n",
    "\n",
    "for i in range(10) :\n",
    "    if i % 2 == 0 :\n",
    "        a.append(i ** 2)\n",
    "\n",
    "print(a)"
   ]
  },
  {
   "cell_type": "code",
   "execution_count": null,
   "metadata": {},
   "outputs": [],
   "source": [
    "a = [i ** 2 for i in range(10) if i % 2 == 0]\n",
    "print(a)"
   ]
  },
  {
   "cell_type": "code",
   "execution_count": null,
   "metadata": {},
   "outputs": [],
   "source": [
    "def b(n) :\n",
    "    a = []\n",
    "    for i in range(n) :\n",
    "        if i % 2 == 0 :\n",
    "            a.append(i ** 2)\n",
    "    return a"
   ]
  },
  {
   "cell_type": "code",
   "execution_count": null,
   "metadata": {},
   "outputs": [],
   "source": [
    "def c(n) :\n",
    "    return [i ** 2 for i in range(n) if i % 2 == 0]"
   ]
  },
  {
   "cell_type": "code",
   "execution_count": null,
   "metadata": {},
   "outputs": [],
   "source": [
    "%timeit b(1000000)"
   ]
  },
  {
   "cell_type": "code",
   "execution_count": null,
   "metadata": {},
   "outputs": [],
   "source": [
    "%timeit c(1000000)"
   ]
  },
  {
   "cell_type": "code",
   "execution_count": null,
   "metadata": {},
   "outputs": [],
   "source": [
    "def prime_list(n):\n",
    "    # 에라토스테네스의 체 초기화: n개 요소에 True 설정(소수로 간주)\n",
    "    sieve = [True] * n\n",
    "\n",
    "    # n의 최대 약수가 sqrt(n) 이하이므로 i=sqrt(n)까지 검사\n",
    "    m = int(n ** 0.5)\n",
    "    for i in range(2, m + 1):\n",
    "        if sieve[i] == True:           # i가 소수인 경우 \n",
    "            for j in range(i+i, n, i): # i이후 i의 배수들을 False 판정\n",
    "                sieve[j] = False\n",
    "\n",
    "    # 소수 목록 산출\n",
    "    return [i for i in range(2, n) if sieve[i] == True]"
   ]
  },
  {
   "cell_type": "code",
   "execution_count": null,
   "metadata": {},
   "outputs": [],
   "source": []
  }
 ],
 "metadata": {
  "kernelspec": {
   "display_name": "Python 3",
   "language": "python",
   "name": "python3"
  },
  "language_info": {
   "codemirror_mode": {
    "name": "ipython",
    "version": 3
   },
   "file_extension": ".py",
   "mimetype": "text/x-python",
   "name": "python",
   "nbconvert_exporter": "python",
   "pygments_lexer": "ipython3",
   "version": "3.6.4"
  }
 },
 "nbformat": 4,
 "nbformat_minor": 2
}
