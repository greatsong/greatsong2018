{
 "cells": [
  {
   "cell_type": "markdown",
   "metadata": {},
   "source": [
    "### 1. 함수의 기초"
   ]
  },
  {
   "cell_type": "markdown",
   "metadata": {},
   "source": [
    "#### step 1) 1 + 2 출력하기"
   ]
  },
  {
   "cell_type": "code",
   "execution_count": null,
   "metadata": {},
   "outputs": [],
   "source": [
    "a = 1\n",
    "b = 2\n",
    "print(a + b)"
   ]
  },
  {
   "cell_type": "markdown",
   "metadata": {},
   "source": [
    "#### step 2) 1 + 2를 출력하는 함수"
   ]
  },
  {
   "cell_type": "code",
   "execution_count": null,
   "metadata": {},
   "outputs": [],
   "source": [
    "def add() :\n",
    "    a = 1\n",
    "    b = 2\n",
    "    print(a + b)\n",
    "add()"
   ]
  },
  {
   "cell_type": "markdown",
   "metadata": {},
   "source": [
    "#### step 2) a +b를 출력하는 함수"
   ]
  },
  {
   "cell_type": "code",
   "execution_count": null,
   "metadata": {},
   "outputs": [],
   "source": [
    "def add(a, b) :\n",
    "    print(a + b)\n",
    "add(1, 2)"
   ]
  },
  {
   "cell_type": "markdown",
   "metadata": {},
   "source": [
    "#### step 3) a + b를 돌려주는(return) 함수"
   ]
  },
  {
   "cell_type": "code",
   "execution_count": null,
   "metadata": {},
   "outputs": [],
   "source": [
    "def add(a, b) :\n",
    "    return a + b\n",
    "\n",
    "print(add(1, 2))\n",
    "print(add(add(1, 2),add(1, 2)))"
   ]
  },
  {
   "cell_type": "markdown",
   "metadata": {},
   "source": [
    "### ex) 자연수 n의 약수를 출력하는 함수 만들기"
   ]
  },
  {
   "cell_type": "markdown",
   "metadata": {},
   "source": [
    "#### step 1) 일반적인 코드로 작성하기"
   ]
  },
  {
   "cell_type": "code",
   "execution_count": null,
   "metadata": {},
   "outputs": [],
   "source": [
    "n = int(input('n을 입력해주세요 : '))\n",
    "for i in range(1, n + 1) :\n",
    "    if n % i == 0 :\n",
    "        print(i)"
   ]
  },
  {
   "cell_type": "markdown",
   "metadata": {},
   "source": [
    "#### step 2) 입력이 없는 함수로 작성하기"
   ]
  },
  {
   "cell_type": "code",
   "execution_count": null,
   "metadata": {},
   "outputs": [],
   "source": [
    "def divisor() :\n",
    "    n = int(input('n을 입력해주세요 : '))\n",
    "    for i in range(1, n + 1) :\n",
    "        if n % i == 0 :\n",
    "            print(i)"
   ]
  },
  {
   "cell_type": "code",
   "execution_count": null,
   "metadata": {},
   "outputs": [],
   "source": [
    "divisor()"
   ]
  },
  {
   "cell_type": "markdown",
   "metadata": {},
   "source": [
    "#### 3) 입력이 있는 함수로 작성하기"
   ]
  },
  {
   "cell_type": "code",
   "execution_count": null,
   "metadata": {},
   "outputs": [],
   "source": [
    "def divisor(n) :\n",
    "    for i in range(1, n + 1) :\n",
    "        if n % i == 0 :\n",
    "            print(i)\n",
    "divisor(10)"
   ]
  },
  {
   "cell_type": "code",
   "execution_count": null,
   "metadata": {},
   "outputs": [],
   "source": [
    "for i in range(10, 100, 10) :\n",
    "    divisor(i)"
   ]
  },
  {
   "cell_type": "markdown",
   "metadata": {},
   "source": [
    "### 2. 소수 판별 문제"
   ]
  },
  {
   "cell_type": "markdown",
   "metadata": {},
   "source": [
    "#### step 1) 소수 여부 판별하기"
   ]
  },
  {
   "cell_type": "code",
   "execution_count": null,
   "metadata": {
    "colab": {
     "base_uri": "https://localhost:8080/",
     "height": 34
    },
    "colab_type": "code",
    "executionInfo": {
     "elapsed": 781,
     "status": "ok",
     "timestamp": 1540160362622,
     "user": {
      "displayName": "석리송",
      "photoUrl": "",
      "userId": "10322695296450192162"
     },
     "user_tz": -540
    },
    "id": "X-dXPQcmtdf-",
    "outputId": "1339d182-5bce-42cf-e981-d18c274105b8"
   },
   "outputs": [],
   "source": [
    "n = 10237\n",
    "flag = True\n",
    "\n",
    "for i in range(2, n) :\n",
    "    if n % i == 0 :\n",
    "        flag = False\n",
    "if flag :\n",
    "    print('prime number')\n",
    "else :\n",
    "    print('not prime number')"
   ]
  },
  {
   "cell_type": "markdown",
   "metadata": {},
   "source": [
    "#### step 2) 소수 여부 판별하는 함수 만들기"
   ]
  },
  {
   "cell_type": "code",
   "execution_count": null,
   "metadata": {
    "colab": {
     "base_uri": "https://localhost:8080/",
     "height": 34
    },
    "colab_type": "code",
    "executionInfo": {
     "elapsed": 656,
     "status": "ok",
     "timestamp": 1540160558285,
     "user": {
      "displayName": "석리송",
      "photoUrl": "",
      "userId": "10322695296450192162"
     },
     "user_tz": -540
    },
    "id": "GGGwcD-MtdgP",
    "outputId": "30b51439-cd71-4d8a-bdc1-f66a2b8f2407"
   },
   "outputs": [],
   "source": [
    "def check_prime(n) :\n",
    "    for i in range(2, n) :\n",
    "        if n % i == 0 :\n",
    "            return False\n",
    "    return True\n",
    "\n",
    "if check_prime(171) :\n",
    "    print('prime number')\n",
    "else :\n",
    "    print('not prime number')"
   ]
  },
  {
   "cell_type": "markdown",
   "metadata": {},
   "source": [
    "#### step 3) 소수 여부 판별하는 함수의 활용"
   ]
  },
  {
   "cell_type": "code",
   "execution_count": null,
   "metadata": {
    "colab": {},
    "colab_type": "code",
    "id": "c2pIusAXtdgZ",
    "outputId": "d2466ea8-90b4-4b72-b7ac-687c92a09a1e"
   },
   "outputs": [],
   "source": [
    "for i in range(10000,100000) :\n",
    "    print(i, check_prime(i))"
   ]
  },
  {
   "cell_type": "code",
   "execution_count": null,
   "metadata": {
    "colab": {},
    "colab_type": "code",
    "id": "CFgX-W64tdgp",
    "outputId": "da449133-fa2e-456a-e386-52b349e25745"
   },
   "outputs": [],
   "source": [
    "for i in range(10000,100000) :\n",
    "    if check_prime(i) :\n",
    "        print(i)"
   ]
  },
  {
   "cell_type": "markdown",
   "metadata": {},
   "source": [
    "### 3. 소수 카운트 문제"
   ]
  },
  {
   "cell_type": "markdown",
   "metadata": {},
   "source": [
    "#### step 1) 소수 카운트하기"
   ]
  },
  {
   "cell_type": "code",
   "execution_count": null,
   "metadata": {
    "colab": {},
    "colab_type": "code",
    "id": "QEuKaXoXtdg0",
    "outputId": "21b5c645-30dd-4991-a6ee-8054a2b824b2"
   },
   "outputs": [],
   "source": [
    "cnt = 0\n",
    "for i in range(10000,100000) :\n",
    "    if check_prime(i) :\n",
    "        cnt += 1 \n",
    "print(cnt)"
   ]
  },
  {
   "cell_type": "markdown",
   "metadata": {},
   "source": [
    "#### step 2) 소수 카운트하는 함수 만들기"
   ]
  },
  {
   "cell_type": "code",
   "execution_count": null,
   "metadata": {
    "colab": {},
    "colab_type": "code",
    "id": "7KLP6ghvtdhO",
    "outputId": "5ab2ecad-2104-4cd3-8100-93952005dc47"
   },
   "outputs": [],
   "source": [
    "def cnt_prime(a, b) :\n",
    "    cnt = 0\n",
    "    for i in range(a, b) :\n",
    "        flag = True\n",
    "        for j in range(2, i) :\n",
    "            if i % j == 0 :\n",
    "                flag = False\n",
    "                break\n",
    "        if flag :\n",
    "            cnt += 1\n",
    "    return cnt\n",
    "\n",
    "print(cnt_prime(2,4))"
   ]
  },
  {
   "cell_type": "markdown",
   "metadata": {},
   "source": [
    "#### step 3) 소수 판별 함수를 사용하는 소수 카운트 함수 만들기"
   ]
  },
  {
   "cell_type": "code",
   "execution_count": null,
   "metadata": {},
   "outputs": [],
   "source": [
    "def cnt_prime(a, b) :\n",
    "    cnt = 0\n",
    "    for i in range(a, b) :\n",
    "        if check_prime(i) :\n",
    "            cnt += 1\n",
    "    return cnt\n",
    "\n",
    "print(cnt_prime(2,4))"
   ]
  },
  {
   "cell_type": "markdown",
   "metadata": {},
   "source": [
    "### 4. 효율적인 알고리즘 설계하기"
   ]
  },
  {
   "cell_type": "markdown",
   "metadata": {},
   "source": [
    "#### step 1) 기존 알고리즘 시간 측정하기"
   ]
  },
  {
   "cell_type": "code",
   "execution_count": null,
   "metadata": {
    "colab": {},
    "colab_type": "code",
    "id": "w5_1-Rzjtdhp"
   },
   "outputs": [],
   "source": [
    "%timeit cnt_prime(1000,10000)"
   ]
  },
  {
   "cell_type": "markdown",
   "metadata": {},
   "source": [
    "#### step 2) 개선된 알고리즘 시간 측정하기"
   ]
  },
  {
   "cell_type": "code",
   "execution_count": null,
   "metadata": {
    "colab": {},
    "colab_type": "code",
    "id": "UNd8QyxEtdhz"
   },
   "outputs": [],
   "source": [
    "import math\n",
    "def check_prime2(n) :\n",
    "    flag = True\n",
    "    for i in range(2, int(math.sqrt(n)) + 1) :\n",
    "        if n % i == 0 :\n",
    "            return False\n",
    "    return True\n",
    "\n",
    "def cnt_prime2(a, b) :\n",
    "    cnt = 0\n",
    "    for i in range(a, b) :\n",
    "        if check_prime2(i) :\n",
    "            cnt += 1\n",
    "    return cnt"
   ]
  },
  {
   "cell_type": "code",
   "execution_count": null,
   "metadata": {
    "colab": {},
    "colab_type": "code",
    "id": "K-z5U0Eftdh7",
    "outputId": "0ebd875d-6aa9-47d2-9497-1c3492e8f018"
   },
   "outputs": [],
   "source": [
    "%timeit cnt_prime2(10000,100000)"
   ]
  },
  {
   "cell_type": "markdown",
   "metadata": {},
   "source": [
    "##### tip) 일반적인 코드의 실행시간 측정하기"
   ]
  },
  {
   "cell_type": "code",
   "execution_count": null,
   "metadata": {
    "colab": {},
    "colab_type": "code",
    "id": "k4E83rFvtdg8",
    "outputId": "72fbf4dd-770b-4a2d-fcf7-95336509fc57"
   },
   "outputs": [],
   "source": [
    "from timeit import default_timer as timer\n",
    "before = timer()\n",
    "cnt = 0\n",
    "for i in range(10000,100000) :\n",
    "    if check_prime(i) :\n",
    "        cnt += 1 \n",
    "print(cnt)\n",
    "after = timer()\n",
    "print(after - before)"
   ]
  }
 ],
 "metadata": {
  "colab": {
   "name": "함수의 기초.ipynb",
   "provenance": [],
   "version": "0.3.2"
  },
  "kernelspec": {
   "display_name": "Python 3",
   "language": "python",
   "name": "python3"
  },
  "language_info": {
   "codemirror_mode": {
    "name": "ipython",
    "version": 3
   },
   "file_extension": ".py",
   "mimetype": "text/x-python",
   "name": "python",
   "nbconvert_exporter": "python",
   "pygments_lexer": "ipython3",
   "version": "3.6.4"
  }
 },
 "nbformat": 4,
 "nbformat_minor": 1
}
